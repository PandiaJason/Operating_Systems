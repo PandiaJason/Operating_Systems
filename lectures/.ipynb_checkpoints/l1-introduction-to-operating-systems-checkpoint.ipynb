{
 "cells": [
  {
   "cell_type": "markdown",
   "metadata": {},
   "source": [
    "![College Logo](../misc/college-logo-1024x245.png)"
   ]
  },
  {
   "cell_type": "markdown",
   "metadata": {},
   "source": [
    "\n",
    "\n",
    "\n",
    "<div class=\"alert alert-block alert-info\">\n",
    "    \n",
    "# Lecture notes on Operating Systems\n",
    "\n",
    "**By Jason Pandian**<br> *Assistant Professor, Department of Information Technology*\n",
    "    \n",
    "</div>\n",
    "\n"
   ]
  },
  {
   "cell_type": "markdown",
   "metadata": {},
   "source": [
    "# Introduction \n",
    "Computer System - Elements and organization; Operating System Overview - Objectives and Functions - Evolution of Operating System; Operating System Structures – Operating System Services - User Operating System Interface - System Calls – System Programs - Design and Implementation - Structuring methods."
   ]
  },
  {
   "cell_type": "markdown",
   "metadata": {},
   "source": [
    "## Computer System\n",
    "- A modern computer consists of **more processors, some amount of main memory, hard disks or Flash drives, printers, a keyboard, a mouse, a display, network interfaces, and various other input/output devices.** All in all, a complex system.\n",
    "- If every application programmer had to understand how all these things work in detail, no code would ever get written.\n",
    "- Furthermore, managing all these components and using them optimally is an exceedingly challenging job. For this reason, computers are equipped with a layer of software called the **operating system**, whose job is to provide user programs with a better, simpler, clearer, model of the computer and to handle managing all the resources (just mentioned)"
   ]
  },
  {
   "cell_type": "markdown",
   "metadata": {
    "_cell_guid": "b1076dfc-b9ad-4769-8c92-a6c4dae69d19",
    "_uuid": "8f2839f25d086af736a60e9eeb907d3b93b6e0e5",
    "execution": {
     "iopub.execute_input": "2024-02-29T15:29:33.880275Z",
     "iopub.status.busy": "2024-02-29T15:29:33.879856Z",
     "iopub.status.idle": "2024-02-29T15:29:33.923139Z",
     "shell.execute_reply": "2024-02-29T15:29:33.920959Z",
     "shell.execute_reply.started": "2024-02-29T15:29:33.880237Z"
    }
   },
   "source": [
    "### What is Operating System?\n",
    "![College Logo](../misc/os.png)\n",
    "- It is hard to pin down what an operating system is other than saying it is the software that runs in **kernel mode** and **even that is not always true.** \n",
    "- Part of the problem is that operating systems perform two essentially unrelated functions: **providing application programmers** (and application programs, naturally) **a clean abstract set of resources** instead of the **messy hardware ones** and managing these hardware resources.\n",
    "- Depending on who is doing the talking, you might hear mostly about one function or the other. Let us now look at both.\n",
    "- POSIX, UNIX, MINUX, BSD, freeBSD, LINUX and MACOS\n",
    "- DOS, MS DOS, WINDOWS\n",
    "\n",
    "### **The Operating System as an Extended Machine**\n",
    "- A programmer don't want to handle the disk with the hardware level, instead use a piece of software called **disk driver.**\n",
    "- That can basically do the all **i/o operations** and **R/W operation** on behalf of the programmer.\n",
    "- So operating systems is a collection of software (drivers, kernel and libraries) for controlling the i/o of the computer system.\n",
    "\n",
    "- **Abstraction** is the key of managing all this complexity. **Good abstractions** turns a nearly impossible task into two manageable ones.\n",
    "- First is defining and managing the **abstraction.**\n",
    "- Using this abstractions to solve the **problem** at hand.\n",
    "- Main customers of OS are application programmers.\n",
    "\n",
    "![College Logo](../misc/awful-hardware-beautiful-system.png)\n",
    "#### **Operating systems turns(abstracts) awful hardware into beautiful abstractions**\n",
    "\n",
    "### **The Operating System as a Resource Manager**\n",
    "- The concept of an operating system as primarily providing abstractions to application programs is a top-down view.\n",
    "- An alternative, bottom-up, view holds that the operating system is there to manage all the pieces of a complex system.\n",
    "- Modern computers consist of processors, memories, timers, disks, mice, network interfaces, printers, touch screens, touch pad, and a wide variety of other devices.\n",
    "- In the bottom-up view, the job of the operating system is to provide for an orderly and controlled allocation of the processors, memories, and I/O devices among the various programs wanting them.\n",
    "- Modern operating systems allow multiple programs to be in memory and run at the same time.\n",
    "- **Imagine, what happens when multipe programs tries to printout simultaniously on the same printer.**\n",
    "- program 1 uses the printer and prints few lines, program 2 also trying to print, so next few lines are from program 2. so on. the output document is utter waste.\n",
    "- Think of OS as an Disciplined Controlled Resourse Manager with **Multiplexing** capabilities.\n",
    "- Time multiplexed—who goes next and for how long—is the task of the operating system.\n",
    "- Space multiplexing, Assuming there is enough memory to hold multiple programs, it is more efficient to hold several programs in memory at once rather than give one of them the entire memory.(especially if it only needs a small fraction of the total.)"
   ]
  },
  {
   "cell_type": "markdown",
   "metadata": {},
   "source": [
    "<div class=\"alert alert-block alert-info\">\n",
    "    \n",
    "<b>Any Questions?</b> \n",
    "    \n",
    "</div>"
   ]
  },
  {
   "cell_type": "markdown",
   "metadata": {},
   "source": [
    "<div class=\"alert alert-block alert-info\">\n",
    "    \n",
    "<b>Refferences</b>\n",
    "<ul>1. Tanenbaum, Bos, \"Modern Operating Systems\", 5th edition</ul>\n",
    "    \n",
    "</div>"
   ]
  },
  {
   "cell_type": "markdown",
   "metadata": {},
   "source": [
    "\n",
    "\n",
    "\n",
    "<div class=\"alert alert-block alert-info\">\n",
    "    \n",
    "# Any Questions or Doubts?\n",
    "\n",
    "[**Refer the Lectures/Tutorials GitHub Page**](https://github.com/PandiaJason/Operating_Systems)\n",
    "\n",
    "    \n",
    "</div>\n",
    "\n"
   ]
  },
  {
   "cell_type": "code",
   "execution_count": null,
   "metadata": {},
   "outputs": [],
   "source": []
  }
 ],
 "metadata": {
  "kaggle": {
   "accelerator": "none",
   "dataSources": [],
   "dockerImageVersionId": 30664,
   "isGpuEnabled": false,
   "isInternetEnabled": false,
   "language": "python",
   "sourceType": "notebook"
  },
  "kernelspec": {
   "display_name": "Python 3 (ipykernel)",
   "language": "python",
   "name": "python3"
  },
  "language_info": {
   "codemirror_mode": {
    "name": "ipython",
    "version": 3
   },
   "file_extension": ".py",
   "mimetype": "text/x-python",
   "name": "python",
   "nbconvert_exporter": "python",
   "pygments_lexer": "ipython3",
   "version": "3.11.2"
  }
 },
 "nbformat": 4,
 "nbformat_minor": 4
}
